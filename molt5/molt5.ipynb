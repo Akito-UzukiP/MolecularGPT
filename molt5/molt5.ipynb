{
 "cells": [
  {
   "cell_type": "code",
   "execution_count": 2,
   "metadata": {},
   "outputs": [
    {
     "name": "stdout",
     "output_type": "stream",
     "text": [
      "The molecule is conjugate base of 7,8-dihydro-7,8-dihydroxykynurenic acid; major species at pH 7.3. It is a quinolinemonocarboxylate and a hydroxy monocarboxylic acid anion. It is a conjugate base of a 7,8-dihydro-7,8-dihydroxykynurenic acid.\n"
     ]
    }
   ],
   "source": [
    "from transformers import T5Tokenizer, T5ForConditionalGeneration\n",
    "import requests\n",
    "proxies = {\n",
    "        #          [协议]://  [地址]  :[端口]\n",
    "        \"http\":  \"socks5h://localhost:11796\",  # 再例如  \"http\":  \"http://127.0.0.1:7890\",\n",
    "        \"https\": \"socks5h://localhost:11796\",  # 再例如  \"https\": \"http://127.0.0.1:7890\",\n",
    "}\n",
    "requests.Session().proxies = proxies\n",
    "\n",
    "tokenizer = T5Tokenizer.from_pretrained(\"./model/\", model_max_length=512)\n",
    "model = T5ForConditionalGeneration.from_pretrained('./model/')\n",
    "\n",
    "input_text = 'C1=CC2=C(C(=C1)[O-])NC(=CC2=O)C(=O)O'\n",
    "input_ids = tokenizer(input_text, return_tensors=\"pt\").input_ids\n",
    "\n",
    "outputs = model.generate(input_ids, num_beams=5, max_length=512)\n",
    "print(tokenizer.decode(outputs[0], skip_special_tokens=True))"
   ]
  }
 ],
 "metadata": {
  "kernelspec": {
   "display_name": "molecule",
   "language": "python",
   "name": "python3"
  },
  "language_info": {
   "codemirror_mode": {
    "name": "ipython",
    "version": 3
   },
   "file_extension": ".py",
   "mimetype": "text/x-python",
   "name": "python",
   "nbconvert_exporter": "python",
   "pygments_lexer": "ipython3",
   "version": "3.8.0"
  },
  "orig_nbformat": 4
 },
 "nbformat": 4,
 "nbformat_minor": 2
}
