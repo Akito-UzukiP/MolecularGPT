{
 "cells": [
  {
   "cell_type": "code",
   "execution_count": 2,
   "metadata": {},
   "outputs": [
    {
     "name": "stdout",
     "output_type": "stream",
     "text": [
      "00:43:01   Downloading https://raw.githubusercontent.com/connorcoley/retrosim/master/retrosim/data/data_processed.csv to ./molecule-datasets/data_processed.csv\n"
     ]
    },
    {
     "name": "stderr",
     "output_type": "stream",
     "text": [
      "Loading ./molecule-datasets/data_processed.csv: 100%|██████████| 50017/50017 [00:01<00:00, 45830.70it/s]\n",
      "Constructing molecules from SMILES:   0%|          | 0/50016 [00:00<?, ?it/s]d:\\Anaconda\\envs\\molecule\\lib\\site-packages\\torchdrug\\utils\\decorator.py:189: UserWarning: from_molecule(): argument `node_feature` is deprecated in favor of `atom_feature`\n",
      "  warnings.warn(\"%s(): argument `%s` is deprecated in favor of `%s`\" % (obj.__name__, key, value))\n",
      "Constructing molecules from SMILES:  33%|███▎      | 16458/50016 [00:28<00:57, 581.06it/s]\n"
     ]
    },
    {
     "ename": "KeyboardInterrupt",
     "evalue": "",
     "output_type": "error",
     "traceback": [
      "\u001b[1;31m---------------------------------------------------------------------------\u001b[0m",
      "\u001b[1;31mKeyboardInterrupt\u001b[0m                         Traceback (most recent call last)",
      "Cell \u001b[1;32mIn[2], line 3\u001b[0m\n\u001b[0;32m      1\u001b[0m \u001b[39mfrom\u001b[39;00m \u001b[39mtorchdrug\u001b[39;00m \u001b[39mimport\u001b[39;00m datasets, data\n\u001b[1;32m----> 3\u001b[0m reaction_dataset \u001b[39m=\u001b[39m datasets\u001b[39m.\u001b[39;49mUSPTO50k(\u001b[39m\"\u001b[39;49m\u001b[39m./molecule-datasets/\u001b[39;49m\u001b[39m\"\u001b[39;49m,\n\u001b[0;32m      4\u001b[0m                                      node_feature\u001b[39m=\u001b[39;49m\u001b[39m\"\u001b[39;49m\u001b[39mcenter_identification\u001b[39;49m\u001b[39m\"\u001b[39;49m,\n\u001b[0;32m      5\u001b[0m                                      kekulize\u001b[39m=\u001b[39;49m\u001b[39mTrue\u001b[39;49;00m)\n\u001b[0;32m      6\u001b[0m synthon_dataset \u001b[39m=\u001b[39m datasets\u001b[39m.\u001b[39mUSPTO50k(\u001b[39m\"\u001b[39m\u001b[39m./molecule-datasets/\u001b[39m\u001b[39m\"\u001b[39m, as_synthon\u001b[39m=\u001b[39m\u001b[39mTrue\u001b[39;00m,\n\u001b[0;32m      7\u001b[0m                                     node_feature\u001b[39m=\u001b[39m\u001b[39m\"\u001b[39m\u001b[39msynthon_completion\u001b[39m\u001b[39m\"\u001b[39m,\n\u001b[0;32m      8\u001b[0m                                     kekulize\u001b[39m=\u001b[39m\u001b[39mTrue\u001b[39;00m)\n",
      "File \u001b[1;32md:\\Anaconda\\envs\\molecule\\lib\\site-packages\\decorator.py:232\u001b[0m, in \u001b[0;36mdecorate.<locals>.fun\u001b[1;34m(*args, **kw)\u001b[0m\n\u001b[0;32m    230\u001b[0m \u001b[39mif\u001b[39;00m \u001b[39mnot\u001b[39;00m kwsyntax:\n\u001b[0;32m    231\u001b[0m     args, kw \u001b[39m=\u001b[39m fix(args, kw, sig)\n\u001b[1;32m--> 232\u001b[0m \u001b[39mreturn\u001b[39;00m caller(func, \u001b[39m*\u001b[39;49m(extras \u001b[39m+\u001b[39;49m args), \u001b[39m*\u001b[39;49m\u001b[39m*\u001b[39;49mkw)\n",
      "File \u001b[1;32md:\\Anaconda\\envs\\molecule\\lib\\site-packages\\torchdrug\\core\\core.py:288\u001b[0m, in \u001b[0;36m_Configurable.__new__.<locals>.wrapper\u001b[1;34m(init, self, *args, **kwargs)\u001b[0m\n\u001b[0;32m    286\u001b[0m     config\u001b[39m.\u001b[39mpop(k)\n\u001b[0;32m    287\u001b[0m \u001b[39mself\u001b[39m\u001b[39m.\u001b[39m_config \u001b[39m=\u001b[39m \u001b[39mdict\u001b[39m(config)\n\u001b[1;32m--> 288\u001b[0m \u001b[39mreturn\u001b[39;00m init(\u001b[39mself\u001b[39;49m, \u001b[39m*\u001b[39;49margs, \u001b[39m*\u001b[39;49m\u001b[39m*\u001b[39;49mkwargs)\n",
      "File \u001b[1;32md:\\Anaconda\\envs\\molecule\\lib\\site-packages\\torchdrug\\datasets\\uspto50k.py:61\u001b[0m, in \u001b[0;36mUSPTO50k.__init__\u001b[1;34m(self, path, as_synthon, verbose, **kwargs)\u001b[0m\n\u001b[0;32m     57\u001b[0m \u001b[39mself\u001b[39m\u001b[39m.\u001b[39mas_synthon \u001b[39m=\u001b[39m as_synthon\n\u001b[0;32m     59\u001b[0m file_name \u001b[39m=\u001b[39m utils\u001b[39m.\u001b[39mdownload(\u001b[39mself\u001b[39m\u001b[39m.\u001b[39murl, path, md5\u001b[39m=\u001b[39m\u001b[39mself\u001b[39m\u001b[39m.\u001b[39mmd5)\n\u001b[1;32m---> 61\u001b[0m \u001b[39mself\u001b[39;49m\u001b[39m.\u001b[39;49mload_csv(file_name, smiles_field\u001b[39m=\u001b[39;49m\u001b[39m\"\u001b[39;49m\u001b[39mrxn_smiles\u001b[39;49m\u001b[39m\"\u001b[39;49m, target_fields\u001b[39m=\u001b[39;49m\u001b[39mself\u001b[39;49m\u001b[39m.\u001b[39;49mtarget_fields, verbose\u001b[39m=\u001b[39;49mverbose,\n\u001b[0;32m     62\u001b[0m               \u001b[39m*\u001b[39;49m\u001b[39m*\u001b[39;49mkwargs)\n\u001b[0;32m     64\u001b[0m \u001b[39mif\u001b[39;00m as_synthon:\n\u001b[0;32m     65\u001b[0m     prefix \u001b[39m=\u001b[39m \u001b[39m\"\u001b[39m\u001b[39mComputing synthons\u001b[39m\u001b[39m\"\u001b[39m\n",
      "File \u001b[1;32md:\\Anaconda\\envs\\molecule\\lib\\site-packages\\torchdrug\\data\\dataset.py:116\u001b[0m, in \u001b[0;36mMoleculeDataset.load_csv\u001b[1;34m(self, csv_file, smiles_field, target_fields, verbose, **kwargs)\u001b[0m\n\u001b[0;32m    113\u001b[0m                     value \u001b[39m=\u001b[39m math\u001b[39m.\u001b[39mnan\n\u001b[0;32m    114\u001b[0m                 targets[field]\u001b[39m.\u001b[39mappend(value)\n\u001b[1;32m--> 116\u001b[0m \u001b[39mself\u001b[39;49m\u001b[39m.\u001b[39;49mload_smiles(smiles, targets, verbose\u001b[39m=\u001b[39;49mverbose, \u001b[39m*\u001b[39;49m\u001b[39m*\u001b[39;49mkwargs)\n",
      "File \u001b[1;32md:\\Anaconda\\envs\\molecule\\lib\\site-packages\\torchdrug\\data\\dataset.py:301\u001b[0m, in \u001b[0;36mReactionDataset.load_smiles\u001b[1;34m(self, smiles_list, targets, transform, verbose, **kwargs)\u001b[0m\n\u001b[0;32m    299\u001b[0m         logger\u001b[39m.\u001b[39mdebug(\u001b[39m\"\u001b[39m\u001b[39mCan\u001b[39m\u001b[39m'\u001b[39m\u001b[39mt construct molecule from SMILES `\u001b[39m\u001b[39m%s\u001b[39;00m\u001b[39m`. Ignore this sample.\u001b[39m\u001b[39m\"\u001b[39m \u001b[39m%\u001b[39m _smiles)\n\u001b[0;32m    300\u001b[0m         \u001b[39mbreak\u001b[39;00m\n\u001b[1;32m--> 301\u001b[0m     mol \u001b[39m=\u001b[39m data\u001b[39m.\u001b[39;49mMolecule\u001b[39m.\u001b[39;49mfrom_molecule(mol, \u001b[39m*\u001b[39;49m\u001b[39m*\u001b[39;49mkwargs)\n\u001b[0;32m    302\u001b[0m     mols\u001b[39m.\u001b[39mappend(mol)\n\u001b[0;32m    303\u001b[0m \u001b[39melse\u001b[39;00m:\n",
      "File \u001b[1;32md:\\Anaconda\\envs\\molecule\\lib\\site-packages\\torchdrug\\utils\\decorator.py:192\u001b[0m, in \u001b[0;36mdeprecated_alias.<locals>.decorate.<locals>.wrapper\u001b[1;34m(*args, **kwargs)\u001b[0m\n\u001b[0;32m    189\u001b[0m         warnings\u001b[39m.\u001b[39mwarn(\u001b[39m\"\u001b[39m\u001b[39m%s\u001b[39;00m\u001b[39m(): argument `\u001b[39m\u001b[39m%s\u001b[39;00m\u001b[39m` is deprecated in favor of `\u001b[39m\u001b[39m%s\u001b[39;00m\u001b[39m`\u001b[39m\u001b[39m\"\u001b[39m \u001b[39m%\u001b[39m (obj\u001b[39m.\u001b[39m\u001b[39m__name__\u001b[39m, key, value))\n\u001b[0;32m    190\u001b[0m         kwargs[value] \u001b[39m=\u001b[39m kwargs\u001b[39m.\u001b[39mpop(key)\n\u001b[1;32m--> 192\u001b[0m \u001b[39mreturn\u001b[39;00m obj(\u001b[39m*\u001b[39;49margs, \u001b[39m*\u001b[39;49m\u001b[39m*\u001b[39;49mkwargs)\n",
      "File \u001b[1;32md:\\Anaconda\\envs\\molecule\\lib\\site-packages\\torchdrug\\data\\molecule.py:251\u001b[0m, in \u001b[0;36mMolecule.from_molecule\u001b[1;34m(cls, mol, atom_feature, bond_feature, mol_feature, with_hydrogen, kekulize)\u001b[0m\n\u001b[0;32m    248\u001b[0m     _mol_feature \u001b[39m=\u001b[39m \u001b[39mNone\u001b[39;00m\n\u001b[0;32m    250\u001b[0m num_relation \u001b[39m=\u001b[39m \u001b[39mlen\u001b[39m(\u001b[39mcls\u001b[39m\u001b[39m.\u001b[39mbond2id) \u001b[39m-\u001b[39m \u001b[39m1\u001b[39m \u001b[39mif\u001b[39;00m kekulize \u001b[39melse\u001b[39;00m \u001b[39mlen\u001b[39m(\u001b[39mcls\u001b[39m\u001b[39m.\u001b[39mbond2id)\n\u001b[1;32m--> 251\u001b[0m \u001b[39mreturn\u001b[39;00m \u001b[39mcls\u001b[39;49m(edge_list, atom_type, bond_type,\n\u001b[0;32m    252\u001b[0m            formal_charge\u001b[39m=\u001b[39;49mformal_charge, explicit_hs\u001b[39m=\u001b[39;49mexplicit_hs,\n\u001b[0;32m    253\u001b[0m            chiral_tag\u001b[39m=\u001b[39;49mchiral_tag, radical_electrons\u001b[39m=\u001b[39;49mradical_electrons, atom_map\u001b[39m=\u001b[39;49matom_map,\n\u001b[0;32m    254\u001b[0m            bond_stereo\u001b[39m=\u001b[39;49mbond_stereo, stereo_atoms\u001b[39m=\u001b[39;49mstereo_atoms, node_position\u001b[39m=\u001b[39;49mnode_position,\n\u001b[0;32m    255\u001b[0m            atom_feature\u001b[39m=\u001b[39;49m_atom_feature, bond_feature\u001b[39m=\u001b[39;49m_bond_feature, mol_feature\u001b[39m=\u001b[39;49m_mol_feature,\n\u001b[0;32m    256\u001b[0m            num_node\u001b[39m=\u001b[39;49mmol\u001b[39m.\u001b[39;49mGetNumAtoms(), num_relation\u001b[39m=\u001b[39;49mnum_relation)\n",
      "File \u001b[1;32md:\\Anaconda\\envs\\molecule\\lib\\site-packages\\torchdrug\\data\\molecule.py:57\u001b[0m, in \u001b[0;36mMolecule.__init__\u001b[1;34m(self, edge_list, atom_type, bond_type, atom_feature, bond_feature, mol_feature, formal_charge, explicit_hs, chiral_tag, radical_electrons, atom_map, bond_stereo, stereo_atoms, node_position, **kwargs)\u001b[0m\n\u001b[0;32m     55\u001b[0m \u001b[39mif\u001b[39;00m \u001b[39m\"\u001b[39m\u001b[39mnum_relation\u001b[39m\u001b[39m\"\u001b[39m \u001b[39mnot\u001b[39;00m \u001b[39min\u001b[39;00m kwargs:\n\u001b[0;32m     56\u001b[0m     kwargs[\u001b[39m\"\u001b[39m\u001b[39mnum_relation\u001b[39m\u001b[39m\"\u001b[39m] \u001b[39m=\u001b[39m \u001b[39mlen\u001b[39m(\u001b[39mself\u001b[39m\u001b[39m.\u001b[39mbond2id)\n\u001b[1;32m---> 57\u001b[0m \u001b[39msuper\u001b[39;49m(Molecule, \u001b[39mself\u001b[39;49m)\u001b[39m.\u001b[39;49m\u001b[39m__init__\u001b[39;49m(edge_list\u001b[39m=\u001b[39;49medge_list, \u001b[39m*\u001b[39;49m\u001b[39m*\u001b[39;49mkwargs)\n\u001b[0;32m     58\u001b[0m atom_type, bond_type \u001b[39m=\u001b[39m \u001b[39mself\u001b[39m\u001b[39m.\u001b[39m_standarize_atom_bond(atom_type, bond_type)\n\u001b[0;32m     60\u001b[0m formal_charge \u001b[39m=\u001b[39m \u001b[39mself\u001b[39m\u001b[39m.\u001b[39m_standarize_attribute(formal_charge, \u001b[39mself\u001b[39m\u001b[39m.\u001b[39mnum_node)\n",
      "File \u001b[1;32md:\\Anaconda\\envs\\molecule\\lib\\site-packages\\torchdrug\\data\\graph.py:67\u001b[0m, in \u001b[0;36mGraph.__init__\u001b[1;34m(self, edge_list, edge_weight, num_node, num_relation, node_feature, edge_feature, graph_feature, **kwargs)\u001b[0m\n\u001b[0;32m     65\u001b[0m \u001b[39msuper\u001b[39m(Graph, \u001b[39mself\u001b[39m)\u001b[39m.\u001b[39m\u001b[39m__init__\u001b[39m(\u001b[39m*\u001b[39m\u001b[39m*\u001b[39mkwargs)\n\u001b[0;32m     66\u001b[0m \u001b[39m# edge_list: N * [h, t] or N * [h, t, r]\u001b[39;00m\n\u001b[1;32m---> 67\u001b[0m edge_list, num_edge \u001b[39m=\u001b[39m \u001b[39mself\u001b[39;49m\u001b[39m.\u001b[39;49m_standarize_edge_list(edge_list, num_relation)\n\u001b[0;32m     68\u001b[0m edge_weight \u001b[39m=\u001b[39m \u001b[39mself\u001b[39m\u001b[39m.\u001b[39m_standarize_edge_weight(edge_weight, edge_list)\n\u001b[0;32m     70\u001b[0m num_node \u001b[39m=\u001b[39m \u001b[39mself\u001b[39m\u001b[39m.\u001b[39m_standarize_num_node(num_node, edge_list)\n",
      "File \u001b[1;32md:\\Anaconda\\envs\\molecule\\lib\\site-packages\\torchdrug\\data\\graph.py:178\u001b[0m, in \u001b[0;36mGraph._standarize_edge_list\u001b[1;34m(self, edge_list, num_relation)\u001b[0m\n\u001b[0;32m    176\u001b[0m         device \u001b[39m=\u001b[39m \u001b[39m\"\u001b[39m\u001b[39mcpu\u001b[39m\u001b[39m\"\u001b[39m\n\u001b[0;32m    177\u001b[0m     edge_list \u001b[39m=\u001b[39m torch\u001b[39m.\u001b[39mzeros(\u001b[39m0\u001b[39m, num_element, dtype\u001b[39m=\u001b[39mtorch\u001b[39m.\u001b[39mlong, device\u001b[39m=\u001b[39mdevice)\n\u001b[1;32m--> 178\u001b[0m \u001b[39mif\u001b[39;00m (edge_list \u001b[39m<\u001b[39;49m \u001b[39m0\u001b[39;49m)\u001b[39m.\u001b[39many():\n\u001b[0;32m    179\u001b[0m     \u001b[39mraise\u001b[39;00m \u001b[39mValueError\u001b[39;00m(\u001b[39m\"\u001b[39m\u001b[39m`edge_list` should only contain non-negative indexes\u001b[39m\u001b[39m\"\u001b[39m)\n\u001b[0;32m    180\u001b[0m num_edge \u001b[39m=\u001b[39m torch\u001b[39m.\u001b[39mtensor(\u001b[39mlen\u001b[39m(edge_list), device\u001b[39m=\u001b[39medge_list\u001b[39m.\u001b[39mdevice)\n",
      "\u001b[1;31mKeyboardInterrupt\u001b[0m: "
     ]
    }
   ],
   "source": [
    "from torchdrug import datasets, data\n",
    "\n",
    "reaction_dataset = datasets.USPTO50k(\"./molecule-datasets/\",\n",
    "                                     node_feature=\"center_identification\",\n",
    "                                     kekulize=True)\n",
    "synthon_dataset = datasets.USPTO50k(\"./molecule-datasets/\", as_synthon=True,\n",
    "                                    node_feature=\"synthon_completion\",\n",
    "                                    kekulize=True)"
   ]
  },
  {
   "cell_type": "code",
   "execution_count": null,
   "metadata": {},
   "outputs": [],
   "source": [
    "from IPython.display import display, Image\n",
    "import torch\n",
    "from torchdrug.utils import plot\n",
    "\n",
    "for i in range(2):\n",
    "    sample = reaction_dataset[i]\n",
    "    reactant, product = sample[\"graph\"]\n",
    "    reactants = reactant.connected_components()[0]\n",
    "    products = product.connected_components()[0]\n",
    "    save_file = \"reaction_%d.png\" % i\n",
    "    plot.reaction(reactants, products, save_file=save_file)\n",
    "    display(Image(filename=save_file, height=150))"
   ]
  }
 ],
 "metadata": {
  "kernelspec": {
   "display_name": "molecule",
   "language": "python",
   "name": "python3"
  },
  "language_info": {
   "codemirror_mode": {
    "name": "ipython",
    "version": 3
   },
   "file_extension": ".py",
   "mimetype": "text/x-python",
   "name": "python",
   "nbconvert_exporter": "python",
   "pygments_lexer": "ipython3",
   "version": "3.8.0"
  },
  "orig_nbformat": 4
 },
 "nbformat": 4,
 "nbformat_minor": 2
}
